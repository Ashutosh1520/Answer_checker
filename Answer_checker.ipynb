{
  "nbformat": 4,
  "nbformat_minor": 0,
  "metadata": {
    "colab": {
      "name": "Answer_checker.ipynb",
      "provenance": [],
      "collapsed_sections": []
    },
    "kernelspec": {
      "name": "python3",
      "display_name": "Python 3"
    }
  },
  "cells": [
    {
      "cell_type": "markdown",
      "metadata": {
        "id": "lGYuuU_hNz4V",
        "colab_type": "text"
      },
      "source": [
        "# OLT Answer Checker\n",
        "This code provides you a way to compare image of question that you provide with the existing images of solutions available and find the closest match. So that you don't have to scroll hundreds of questions before finding your answer.\n"
      ]
    },
    {
      "cell_type": "markdown",
      "metadata": {
        "id": "TspSwqv1U1kr",
        "colab_type": "text"
      },
      "source": [
        "##Prerequisites:\n",
        "1. Install tesseract: \n",
        "    1. Install tesseract using windows installer available at: https://github.com/UB-Mannheim/tesseract/wiki\n",
        "    2. Note the tesseract path from the installation.Default installation path at the time the time of this edit was: C:\\Users\\USER\\AppData\\Local\\Tesseract-OCR. It may change so please check the installation path.\n",
        "    3. pip install pytesseract\n",
        "2. Install Levenshtein\n",
        "    1. pip install python-Levenshtein"
      ]
    },
    {
      "cell_type": "markdown",
      "metadata": {
        "id": "0eILYfvgZefl",
        "colab_type": "text"
      },
      "source": [
        "###Steps:\n",
        "1. Put screenshots of solutions in data folder.\n",
        "2. Put screenshot of  question in input folder.\n",
        "3. Run Code \n",
        "4. Select `Create dataset` to scan images present in data folder.\n",
        "5. Select `Provide input image` to scan images present in input folder.\n",
        "6. Select `Find Answer` to search solution of your question.\n",
        "7. Select `Refresh dataset` , if new image is added to data folder.\n",
        "\n"
      ]
    },
    {
      "cell_type": "markdown",
      "metadata": {
        "id": "aVT-bsb0YJjN",
        "colab_type": "text"
      },
      "source": [
        "###Code:"
      ]
    },
    {
      "cell_type": "code",
      "metadata": {
        "id": "K7eKT9U2VKz5",
        "colab_type": "code",
        "colab": {}
      },
      "source": [
        "'''importing neccessary packages'''\n",
        "# Levenshtein distance is a string metric for measuring the difference between two sequences\n",
        "import Levenshtein\n",
        "# PIL is the Python Imaging Library which provides the python interpreter with image editing capabilities\n",
        "from PIL import Image\n",
        "# The OS module in python provides functions for interacting with the operating system\n",
        "import os\n",
        "#Tesseract is an optical character recognition engine for various operating systems.\n",
        "import pytesseract\n",
        "pytesseract.pytesseract.tesseract_cmd = r'C:\\Program Files\\Tesseract-OCR\\tesseract'\n",
        "\n",
        "'''This function is used to covert all available images to text'''\n",
        "def create_dataset():\n",
        "    data_dict={}\n",
        "    #accessing images in data folder and trasferring to list  \n",
        "    img_lst=os.listdir(\"data\")\n",
        "    img_lst=img_lst[1:]\n",
        "    print(\"-----Getting images----\")\n",
        "    print(\"--wait--\")\n",
        "    count=0 #used to count number of images\n",
        "    for i in img_lst:\n",
        "        print(i)\n",
        "        count=count+1\n",
        "        loc=\"data\\\\\\\\\"+i+\"\"\n",
        "        #converting image to text \n",
        "        actual_txt=pytesseract.image_to_string(loc,lang='eng')\n",
        "        #removing extra lines\n",
        "        actual_txt=actual_txt.replace('\\n',' ')\n",
        "        #storing aquired data in a dictionary\n",
        "        data_dict[i]=actual_txt\n",
        "    print(\"number of images read=\",count,\"\\n\")\n",
        "    return data_dict\n",
        "\n",
        "'''This function is used to get input images'''\n",
        "def give_input():\n",
        "    data_dict={}\n",
        "    #accessing images in input folder and trasferring to list \n",
        "    img_lst=os.listdir(\"input\")\n",
        "    print(img_lst,\"\\nThis is your input image\")\n",
        "    for i in img_lst:\n",
        "        loc=\"input\\\\\\\\\"+i+\"\"\n",
        "        #converting image to text\n",
        "        actual_txt=pytesseract.image_to_string(loc,lang='eng')\n",
        "        #removing extra lines\n",
        "        actual_txt=actual_txt.replace('\\n',' ')\n",
        "        #storing aquired data in a dictionary\n",
        "        data_dict[i]=actual_txt\n",
        "    return data_dict\n",
        "\n",
        "\n",
        "'''This function is used to show image to user '''    \n",
        "def show_img(path):\n",
        "    try:  \n",
        "        # an object of Image type is returned and stored in img variable\n",
        "        img  = Image.open(path)  \n",
        "    except IOError: \n",
        "        pass\n",
        "    img.show()\n",
        "    \n",
        "'''This fuction is used to find closest match tothe input image'''\n",
        "def check(input_img,data):\n",
        "    for i in input_img:\n",
        "        inp_txt=input_img[i]\n",
        "    min_len=len(inp_txt)\n",
        "    ans=\"\"\n",
        "    for i in data:\n",
        "        #computing Levenshtein distance\n",
        "        diff=Levenshtein.distance(inp_txt,data[i])\n",
        "        if diff <= min_len:\n",
        "            min_len=diff\n",
        "            ans=i\n",
        "    path=\"data\\\\\\\\\"+ans\n",
        "    #showing image\n",
        "    show_img(path)\n",
        "\n",
        "    \n",
        "def main():\n",
        "    chk=1\n",
        "    while(chk!=0):\n",
        "        print(\"Which operation do you want to perform?\")\n",
        "        print(\"1. Create Dataset\")\n",
        "        print(\"2. Refresh Dataset\")\n",
        "        print(\"3. Provide Input Image\")\n",
        "        print(\"4. Find Answer\")\n",
        "        qry=int(input())\n",
        "        if qry==1:\n",
        "            data=create_dataset()\n",
        "        elif qry==2:\n",
        "            data=create_dataset()\n",
        "        elif qry==3:\n",
        "            input_img=give_input()\n",
        "        elif qry==4:\n",
        "            check(input_img,data)\n",
        "        else:\n",
        "            print(\"invalid input\")\n",
        "        print(\"Do you wish to continue? 0/1\")\n",
        "        chk=int(input())\n",
        "        \n",
        "main()"
      ],
      "execution_count": 0,
      "outputs": []
    },
    {
      "cell_type": "markdown",
      "metadata": {
        "id": "t8ATrPKZVT3i",
        "colab_type": "text"
      },
      "source": [
        "###Refrences:\n",
        "1. Calculating String Similarity in Python\n",
        "https://towardsdatascience.com/calculating-string-similarity-in-python-276e18a7d33a\n",
        "2. Extract text with OCR for all image types in python using pytesseract\n",
        "https://medium.com/@MicroPyramid/extract-text-with-ocr-for-all-image-types-in-python-using-pytesseract-ec3c53e5fc3a\n",
        "3. Working with Images in Python\n",
        "https://www.geeksforgeeks.org/working-images-python/?ref=rp\n",
        "4. Idea credit goes to Aryaveer Bajpai"
      ]
    }
  ]
}